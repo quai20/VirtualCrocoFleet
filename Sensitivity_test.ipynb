{
 "cells": [
  {
   "cell_type": "code",
   "execution_count": null,
   "id": "b09d1106",
   "metadata": {},
   "outputs": [],
   "source": [
    "import warnings\n",
    "warnings.filterwarnings('ignore')\n",
    "from glob import glob\n",
    "import numpy as np\n",
    "import pandas as pd\n",
    "import matplotlib.pyplot as plt\n",
    "import matplotlib.gridspec as gridspec\n",
    "from datetime import timedelta\n",
    "import xarray as xr\n",
    "import sys, os\n",
    "import cartopy\n",
    "cartopy.config['pre_existing_data_dir'] = '/home1/datawork/kbalem/cartopy_shapefiles/'\n",
    "cartopy.config['data_dir'] = '/home1/datawork/kbalem/cartopy_shapefiles/'\n",
    "cartopy.config['repo_data_dir'] = '/home1/datawork/kbalem/cartopy_shapefiles/'\n",
    "import cartopy.crs as ccrs\n",
    "import cartopy.feature as cfeature\n",
    "land_feature=cfeature.NaturalEarthFeature(category='physical',name='land',scale='50m',facecolor=[0.4,0.6,0.7])\n",
    "pr1=ccrs.PlateCarree()"
   ]
  },
  {
   "cell_type": "code",
   "execution_count": null,
   "id": "8772644c",
   "metadata": {},
   "outputs": [],
   "source": [
    "# mask with security : \n",
    "ds_path = '/home1/scratch/kbalem/input_10days_croco_zp.nc'\n",
    "#ds_path = 'test_1.nc'\n",
    "ds = xr.open_dataset(ds_path)\n",
    "ds"
   ]
  },
  {
   "cell_type": "code",
   "execution_count": null,
   "id": "5a889801",
   "metadata": {},
   "outputs": [],
   "source": [
    "variables = {'U': 'u', 'V': 'v', 'depth_rho':'depth_rho'}\n",
    "\n",
    "dimensions = {'U': {'lon': 'lon_rho', 'lat': 'lat_rho', 'depth': 'not_yet_set', 'time': 'time'},\n",
    "              'V': {'lon': 'lon_rho', 'lat': 'lat_rho', 'depth': 'not_yet_set', 'time': 'time'},\n",
    "              'depth_rho' : {'lon': 'lon_rho', 'lat': 'lat_rho', 'depth': 'not_yet_set', 'time': 'time'}              \n",
    "             }\n",
    "\n",
    "fieldset = FieldSet.from_c_grid_dataset(files,variables,dimensions,allow_time_extrapolation=True)"
   ]
  },
  {
   "cell_type": "code",
   "execution_count": null,
   "id": "614c7538",
   "metadata": {},
   "outputs": [],
   "source": [
    "fieldset.U.set_depth_from_field(fieldset.depth_rho)\n",
    "fieldset.V.set_depth_from_field(fieldset.depth_rho)"
   ]
  }
 ],
 "metadata": {
  "kernelspec": {
   "display_name": "Python [conda env:virtualfleet-v3]",
   "language": "python",
   "name": "conda-env-virtualfleet-v3-py"
  },
  "language_info": {
   "name": ""
  }
 },
 "nbformat": 4,
 "nbformat_minor": 5
}
